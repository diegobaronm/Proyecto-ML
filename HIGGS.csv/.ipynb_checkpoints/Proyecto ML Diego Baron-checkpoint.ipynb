{
 "cells": [
  {
   "cell_type": "markdown",
   "metadata": {},
   "source": [
    "## Proyecto ML - Diego Barón - 1214719232\n",
    "\n",
    "\n",
    "\n",
    "# Explorando las colisiones a TeV de LHC usando Machine learning.\n",
    "\n",
    "\n",
    "\n",
    "\n",
    "\n",
    "\n"
   ]
  },
  {
   "cell_type": "markdown",
   "metadata": {},
   "source": [
    "\n",
    "**Tabla de contenidos:**\n",
    "1. Introduccion\n",
    "2. Marco conceptual\n",
    "    1. Tensorflow y DNN. \n",
    "    2. CMS en el LHC.\n",
    "    3. Modelo a estudiar.\n",
    "    4. Base de Datos.\n",
    "3. Implementacion computacional.\n",
    "    1. Preparacion de los datos.\n",
    "    2. Entrenamiento de un NN.\n",
    "    3. Entrenamiento de una DNN.\n",
    "4. Resultados y Conclusiones.\n",
    "5. Bibliografía.\n"
   ]
  },
  {
   "cell_type": "markdown",
   "metadata": {
    "collapsed": true
   },
   "source": [
    "# 1. Introducción.\n",
    "\n",
    "La física de partículas es la ciencia que estudia los constituyentes fundamentales de la naturaleza y las interacciones que hay entre los mismos, en particular se distinguen dos ramas: la física teórica de particulas (THEP) y la física de particulas experimental (EHEP). Los físicos de partículas experimentales son los encargados de poner a prueba los modelos de sus compañeros los teóricos, esto se traduce en encontrar las nuevas partículas e interacciones propuestas en los modelos y la herramienta más poderosa que se tiene hoy en día para alcanzar este fin son los colisionadores. \n",
    "\n",
    "A día de hoy el colisionador que logra las reacciones subatómicas más energéticas es el Gran Colisionador de Hadrones (LHC) (7 TeV por haz), sin embargo, aún cuando estas escalas de energía nos permiten acceder a nueva física (el primer éxito del LHC fue el descubrimiento en 2012 del boson de Higgs [REFERNCIA HIGGS PAPER]), no es para nada sencillo el proceso de descubrimiento de una nueva partícula. El LHC produce grandes cantidades de datos, aproximadamente 1 PB/s, estos deben ser filtrados, por ejemplo: el LHC produce $10^{11}$ colisiones por hora, de las cuales solo 300 involucran a bosones de Higgs. Además los datos deben ser analizados a la luz de las restricciones que provienen de los modelos teóricos, mediante algoritmos de selección, que determinan que eventos provienen de procesos diferentes a los del modelo estándar.\n",
    "\n",
    "Este parece el panorama ideal para utilizar métodos de machine learning (ML): grandes cantidades de datos y tareas de clasificación. Esta no es una idea nueva y previamente se han implementado métodos de ML, como el de redes neuronales (NN) para realizar estas tareas de clasificación, sin embargo hasta hace unos años existían problemas como el problema del desvanecimiento del gradiente, que no permitían el entrenamiento eficiente de redes neuronales profundas (DNN), en este trabajo pretendendo utilizar algunas de las técnicas más recientes que permiten resolver algunos problemas de entrenamiento de DNN y comparar con trabajos que ya los han utilizado [REFERENCIA PAPER PRINCIPAL]. De hecho como conclusión de estos recientes estudios, se esgrime la idea de que las técnicas de ML son más eficientes que las actuales técnicas usadas en física de partículas.\n",
    "\n",
    "Para el entrenamiento de las DNN usaremos la libreria TensorFlow [REFERENCIA TENSORFLOW], que fue liberada en 2015 por Google, esta libreria soporta el uso de GPUS y sus operaciones internas se basan en gráficos de flujo."
   ]
  },
  {
   "cell_type": "markdown",
   "metadata": {
    "collapsed": true
   },
   "source": [
    "# 2. MARCO CONCEPTUAL.\n",
    "\n",
    "# A. Tensorflow y DNN.\n",
    "\n",
    "AQUI VAN GENERALIDADES DE TENSOR FLOW\n",
    "\n",
    "\n",
    "\n",
    "\n",
    "# B. CMS en el LHC.\n",
    "\n",
    "El Gran Colisionador de Hadrones (LHC) es el acelerador de partículas más grande y energético operado actualmente por la Organización Europea para la Investigación Nuclear (CERN), el LHC usa el mismo tunel de 27 km, cavado en promedio a 100 m de profundidad, del antiguo Gran Colisionador Electrón-Positrón (LEP). EL LHC es capaz de colisionar protones e iones de Plomo con una energía por haz de 7 TeV, sin embargo a día de hoy se hace a 6.5 TeV.\n",
    "\n",
    "\n",
    "En el LHC están ubicados 4 experimentos principales: LHC-b, ALICE, ATLAS y CMS. Estos últimos dos son detectores de proposito general, es decir, fueron diseñados para detectar señales de nueva física en estados finales de partículas como electrones, fotones, muones y jets de hadrones. El LHC esta dividido en dos partes: la cadena de aceleración y el anillo principal. En la cadena de aceleración los protones son extraídos y pasados por una serie de aceleradores que los llevan hasta una energía de 450 GeV, momento en que son inyectados en el anillo principal. Este está compuesto de dos anillos que llevan los protones en direcciones opuestas,los anillos están construidos por 2090 imanes de 15 m, enfriados a 1.9 K y con un vacío de $10^{-9}$mbar, cada uno capaz de producir un campo magnético de 8,33 T. Además de estos imanes dipolares, el LHC también cuenta con 520 cuadrupolos, 2464 sextupolos y 1232 octupolos usados para colimar el haz. [REFERENCIA TESIS JOSE]\n",
    "\n",
    "\n",
    "El Solenoide Compacto de Muones (CMS) es, en tamaño, el segundo experimento más grande del LHC despues de ATLAS, debe su nombre (solenoide compacto) a que varios de los sistemas de detección se encuentran dentro del su gran imán superconductor, capaz de producir un campo magnético uniforme en su interior de 3.8 T y (de muones) debido a que posee un sistema de detección de muones muy preciso y eficiente. CMS es un detector con forma cilíndrica, mide aproximadamente 30 m de largo por 15 m de diámetro, pesa 14000 Ton (esto lo convierte en el experimento más pesado del LHC) y la colaboración se compone de aproximadamente 3500 personas de 182 institutos de física en 41 países. Una representación tres dimensional del detector se puede ver en la siguiente figura.\n",
    "\n",
    " <img src=\"F2.png\",width=800,height=800>\n",
    "\n",
    "El imán del CMS tiene 13 m de largo y 6 m de diametro, es capaz de generar un campo magnético uniforme de 4 T en su interior y está construido por 4 capas de espiras de NbTi a 4.45K para que se alcance el estado superconductor, este imán está rodeado por 5 barriles y 3 discos de hierro que tienen el objetivo de devolver el campo magnético generando un campo exterior de 2 T,  esta configuración de campos magnéticos es responsable de curvar las trayectorias de las partículas cargadas.\n",
    "\n",
    "\n",
    "Dentro del solenoide se encuentra el Tracker System, un sistema de detección diseñado con dos tecnologías: Pixeles y tiras de silicio, está diseñado para identificar los vertices de las colisiones con una precisión de 9 $\\mu$m y una eficiencia del 98\\% (que se degrada con la luminosidad integrada), cuando una partícula cargada pasa se crean pares electrón-hueco en el material y esto genera una señal eléctrica que luego es amplificada, este sistema fue construido para ser bastante resistente a la radiación y se espera que dure 10 años.\n",
    "\n",
    "\n",
    "Luego de este sistema se encuentra el calorímetro electromagnético (ECAL), este fue construido para detener electrones y fotones y medir su energía, el sistema está compuesto por cristales de tungstato de plomo, el cual fue escogido por su corta profundidad de radiación, alta densidad y rápido centelleo (25 ns), la unica desventaja del mismo es su alta sensibilidad de respuesta a la temperatura (2\\%/C). Los cristales van perdiendo transparencia con la luminosidad integrada y por tanto esta tiene que ser corregida constantemente por un sistema de láser. El sistema cuenta con 61200 cristales en el barril y 7324 en las tapas del calorímetro.\n",
    "\n",
    "Para detener y detectar los jets hadrónicos se diseñó el calorímetro hadrónico (HCAL), de este sistema cierta parte se encuentra dentro del solenoide (Hadron Endcap Calorimeter y Hadron Barrel Calorimeter) y fuera están el Outer Calorimeter y el Hadron Forward Calorimeter (estos permiten extender el rango angular de detección), los calorímetros tienen el objetivo de detectar los hadrones y lo hacen de la siguiente manera: el sistema tiene intercalados placas de acero con cristales centelladores, las placas de acero generan las duchas de hadrones y cuando estos pasan por los centelladores, la luz generada es convertida en corrientes eléctricas por fotodiodos híbridos (HPDs), estas corrientes permiten medir la energía de los hadrones. Es importante mencionar que debido a la posición del Forward Calorimeter, este recibe mucha radiación comparado a los otros calorìmetros hadrónicos y esto es debido a que está en la dirección del haz incidente y por tanto, los centelladores fueron construidos de un material centellador más resistente a la radiación como lo es el cuarzo.\n",
    "\n",
    "Finalmente en la parte más externa del detector están ubicados los detectores de muones, esto se debe a que estas partículas tienen un gran poder de penetración. Las cámaras de deteccion están hechas de 3 tecnologías diferentes: Drift Tube Chambers (DT), Cathode Strip Chambers(CSC) y Resistive Plate Chambers (RPC), sin embargo las 3 están basadas en la ionización de gases: al paso de partículas cargadas se generan corrientes de deriva. En la figura se muestra una recreación a un corte transversal del detector.\n",
    "\n",
    " <img src=\"F3.png\",width=800,height=800>\n",
    " \n",
    " # C. Modelo a estudiar.\n",
    " \n",
    " Una pregunta vital que hay que responder es si el bosón de Higgs descubierto en 2012 es el del modelo estándar o hace parte de un sector de bosones escalares como el propuesto por modelos como el modelo minimo estándar supersimétrico (MSSM), ya hay trabajos que han tratado de responder esta pregunta [REFERENCIA A PAPER ATLAS] y en lo que sigue presentaremos el modelo.\n",
    " \n",
    "\n",
    "El modelo se compone básicamente del modelo estandar y un doblete de Higgs adicional que se compone de dos bosones pesados y cargados $H^{\\pm}$ y un estado neutral más pesado $H^0$, el bosón ya descubierto se llama $h^{0}$.\n",
    "\n",
    "El proceso que representa la **señal** es el siguiente: Dos gluones se fusionan en un boson de Higgs $H^0$, que a su vez decae en un bosón de Higgs cargado $H^{\\pm}$ y en un W, el $H^{\\pm}$ luego decae en otro W y el boson de Higgs ligero $h^{0}$, finalmente este decae en un par de quarks bottom, el proceso entonces es:\n",
    "\n",
    "$ gg\\rightarrow H^0 \\rightarrow W^{\\mp}H^{\\pm}\\rightarrow W^{\\pm}W^{\\mp}h^0\\rightarrow W^{\\pm}W^{\\mp}b\\bar{b}$\n",
    "\n",
    "Para el **background**, es decir el proceso que imita los mismos estados finales, tenemos la producción de dos quarks top , cada uno decayendo en un W y un quark bottom. En la figura se pueden ver los procesos mencionados, arriba la señal y abajo el background.\n",
    "\n",
    " <img src=\"F4.png\",width=600,height=600>\n",
    " \n",
    " En este caso se analiza el modo de decaimiento semi-leptonico: un bosón W decae en un par neutrino-leptón ($l\\nu$) y el otro W decae en un par de jets ($jj$), dando unos productos de decaimiento: $l\\nu jj bb$. Normalmente se utiliza el método cinemático de la masa invariante para clasificar los eventos, este se basa en el hecho de que si una particula A decae en un par de particulas B y C, se debe cumplir que:\n",
    " \n",
    "$m^{2}_{A}=m^{2}_{B+C}=(E_B+E_C)^2-(\\vec{p_B}+\\vec{p_C})^2$,\n",
    "\n",
    "por tanto se espera lo siguiente en este caso:\n",
    "\n",
    "Para la **señal**:\n",
    "\n",
    "* $W\\rightarrow l\\nu$ de un pico en la distribucion $m_{l\\nu}$ a la masa del W.\n",
    "\n",
    "* $W\\rightarrow jj$ de un pico en la distribucion $m_{jj}$ a la masa del W.\n",
    "\n",
    "* $h^0\\rightarrow b\\bar{b}$ de un pico en la distribucion $m_{b\\bar{b}}$ a la masa del $h^0$.\n",
    "\n",
    "* $H^\\pm\\rightarrow Wh^0$ de un pico en la distribucion $m_{b\\bar{b}}$ a la masa del $H^\\pm$.\n",
    "\n",
    "* $H^0\\rightarrow WH^\\pm$ de un pico en la distribucion $m_{WWb\\bar{b}}$ a la masa del $H^0$.\n",
    "\n",
    "\n",
    "Para el **background**:\n",
    "\n",
    "\n",
    "* $W\\rightarrow l\\nu$ de un pico en la distribucion $m_{l\\nu}$ a la masa del W.\n",
    "\n",
    "* $W\\rightarrow jj$ de un pico en la distribucion $m_{jj}$ a la masa del W.\n",
    "\n",
    "* $t\\rightarrow Wb$ de un pico en la distribucion $m_{jl\\nu}$ y $m_{jbb}$ a la masa del quark top.\n",
    "\n",
    "# D. Base de datos.\n",
    "\n",
    "En el lenguaje de ML tenemos que los datos se componen de 11 MILLONES de instancias (eventos) cada uno con 29 atributos, el archivo csv es de aproximadamente 8 GB, estos datos han sido generados utilizando simulaciones de MonteCarlo utilizando el generador de eventos MADGRAPH5 asumiendo una energía de colisión en el centro de masa de 8 TeV, el proceso de hadronización ha sido simulado con el software PYTHIA y la respuesta del detector con DELPHES, en este caso $m_{H^0}=425$ GeV y $m_{H^0}=325$ GeV. \n",
    "\n",
    "La primera columna de los datos es la etiqueta: 1 para la señal y 0 para el background. Los siguientes 21 datos atributos de bajo nivel (medidos directamente por el detector) y los 7 restantes atributos de alto nivel (funciones de los atributos de bajo nivel).\n",
    "\n",
    "Para este trabajo sin embargo hemos utilizado solo el 1% de los datos (100.000 eventos), por cuestiones de capacidad de cómputo."
   ]
  },
  {
   "cell_type": "code",
   "execution_count": null,
   "metadata": {
    "collapsed": true
   },
   "outputs": [],
   "source": []
  }
 ],
 "metadata": {
  "kernelspec": {
   "display_name": "Python 2",
   "language": "python",
   "name": "python2"
  },
  "language_info": {
   "codemirror_mode": {
    "name": "ipython",
    "version": 2
   },
   "file_extension": ".py",
   "mimetype": "text/x-python",
   "name": "python",
   "nbconvert_exporter": "python",
   "pygments_lexer": "ipython2",
   "version": "2.7.12"
  }
 },
 "nbformat": 4,
 "nbformat_minor": 2
}
